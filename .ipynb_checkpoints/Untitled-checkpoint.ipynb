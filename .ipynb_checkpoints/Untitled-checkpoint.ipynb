{
 "cells": [
  {
   "cell_type": "code",
   "execution_count": 3,
   "id": "a77662c6",
   "metadata": {},
   "outputs": [],
   "source": [
    "# Jupyter Notebook\n",
    "\n",
    "\n"
   ]
  },
  {
   "cell_type": "code",
   "execution_count": 6,
   "id": "b50e8396",
   "metadata": {},
   "outputs": [],
   "source": [
    "# Jupyter Notebook\n",
    "#\n",
    "\n",
    "#Ints and Floats"
   ]
  },
  {
   "cell_type": "code",
   "execution_count": 7,
   "id": "3c4cccc5",
   "metadata": {},
   "outputs": [],
   "source": [
    "### HEader three\n",
    "\n"
   ]
  },
  {
   "cell_type": "markdown",
   "id": "1cb06ae4",
   "metadata": {},
   "source": [
    "### Python\n"
   ]
  },
  {
   "cell_type": "code",
   "execution_count": 8,
   "id": "aae727a8",
   "metadata": {},
   "outputs": [
    {
     "name": "stdout",
     "output_type": "stream",
     "text": [
      "M\n",
      "A\n",
      " \n",
      "W\n"
     ]
    }
   ],
   "source": [
    "name = 'Michael Wormley'\n",
    "\n",
    "for letter in name:\n",
    "    if letter == letter.upper():\n",
    "        print(letter)\n",
    "    if letter == 'a':\n",
    "        print(letter.upper())"
   ]
  },
  {
   "cell_type": "code",
   "execution_count": 9,
   "id": "98bfac78",
   "metadata": {},
   "outputs": [
    {
     "name": "stdout",
     "output_type": "stream",
     "text": [
      "Michael Wormley\n"
     ]
    }
   ],
   "source": [
    "print(name)\n"
   ]
  },
  {
   "cell_type": "markdown",
   "id": "7663960d",
   "metadata": {},
   "source": [
    "### I'm just practicing with Jupyter notebook"
   ]
  },
  {
   "cell_type": "markdown",
   "id": "9080ae32",
   "metadata": {},
   "source": [
    "# Python Pre-Work\n",
    "\n",
    "**Question 1**\n",
    "Write a function to print \"hello_USERNAME!\" USERNAME is the input of the function. The first line of the code has been defined as below."
   ]
  },
  {
   "cell_type": "code",
   "execution_count": 13,
   "id": "10358d2a",
   "metadata": {},
   "outputs": [
    {
     "name": "stdout",
     "output_type": "stream",
     "text": [
      "hello_BRIANS!\n"
     ]
    }
   ],
   "source": [
    "def hello_name(user_name):\n",
    "#     print(f\"hello_{user_name.upper()}!\")\n",
    "    print(\"hello_\" + user_name.upper() + \"!\")\n",
    "\n",
    "hello_name('brians')"
   ]
  },
  {
   "cell_type": "code",
   "execution_count": 14,
   "id": "3ca761be",
   "metadata": {},
   "outputs": [],
   "source": [
    "how to enter markdown"
   ]
  },
  {
   "cell_type": "code",
   "execution_count": null,
   "id": "bfb5a15c",
   "metadata": {},
   "outputs": [],
   "source": [
    "how to enter markdown"
   ]
  },
  {
   "cell_type": "code",
   "execution_count": null,
   "id": "05b196e8",
   "metadata": {},
   "outputs": [],
   "source": []
  },
  {
   "cell_type": "code",
   "execution_count": null,
   "id": "17bb4077",
   "metadata": {},
   "outputs": [],
   "source": []
  },
  {
   "cell_type": "code",
   "execution_count": null,
   "id": "94985408",
   "metadata": {},
   "outputs": [],
   "source": []
  },
  {
   "cell_type": "code",
   "execution_count": null,
   "id": "01fbd69e",
   "metadata": {},
   "outputs": [],
   "source": []
  }
 ],
 "metadata": {
  "kernelspec": {
   "display_name": "Python 3 (ipykernel)",
   "language": "python",
   "name": "python3"
  },
  "language_info": {
   "codemirror_mode": {
    "name": "ipython",
    "version": 3
   },
   "file_extension": ".py",
   "mimetype": "text/x-python",
   "name": "python",
   "nbconvert_exporter": "python",
   "pygments_lexer": "ipython3",
   "version": "3.9.13"
  }
 },
 "nbformat": 4,
 "nbformat_minor": 5
}
