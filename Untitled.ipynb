{
 "cells": [
  {
   "cell_type": "code",
   "execution_count": 3,
   "id": "fda71575",
   "metadata": {},
   "outputs": [],
   "source": [
    "# Jupyter Notebook\n",
    "\n",
    "\n"
   ]
  },
  {
   "cell_type": "code",
   "execution_count": 6,
   "id": "0ae6c286",
   "metadata": {},
   "outputs": [],
   "source": [
    "# Jupyter Notebook\n",
    "#\n",
    "\n",
    "#Ints and Floats"
   ]
  },
  {
   "cell_type": "code",
   "execution_count": 7,
   "id": "01199323",
   "metadata": {},
   "outputs": [],
   "source": [
    "### HEader three\n",
    "\n"
   ]
  },
  {
   "cell_type": "markdown",
   "id": "b1fde623",
   "metadata": {},
   "source": [
    "### Python\n"
   ]
  },
  {
   "cell_type": "code",
   "execution_count": 8,
   "id": "62f0ea16",
   "metadata": {},
   "outputs": [
    {
     "name": "stdout",
     "output_type": "stream",
     "text": [
      "M\n",
      "A\n",
      " \n",
      "W\n"
     ]
    }
   ],
   "source": [
    "name = 'Michael Wormley'\n",
    "\n",
    "for letter in name:\n",
    "    if letter == letter.upper():\n",
    "        print(letter)\n",
    "    if letter == 'a':\n",
    "        print(letter.upper())"
   ]
  },
  {
   "cell_type": "code",
   "execution_count": 9,
   "id": "f6d4e559",
   "metadata": {},
   "outputs": [
    {
     "name": "stdout",
     "output_type": "stream",
     "text": [
      "Michael Wormley\n"
     ]
    }
   ],
   "source": [
    "print(name)\n"
   ]
  },
  {
   "cell_type": "markdown",
   "id": "ab0ad0ac",
   "metadata": {},
   "source": [
    "### I'm just practicing with Jupyter notebook"
   ]
  },
  {
   "cell_type": "markdown",
   "id": "166e3120",
   "metadata": {},
   "source": [
    "# Python Pre-Work\n",
    "\n",
    "**Question 1**\n",
    "Write a function to print \"hello_USERNAME!\" USERNAME is the input of the function. The first line of the code has been defined as below."
   ]
  },
  {
   "cell_type": "code",
   "execution_count": 13,
   "id": "2eaf57f7",
   "metadata": {},
   "outputs": [
    {
     "name": "stdout",
     "output_type": "stream",
     "text": [
      "hello_BRIANS!\n"
     ]
    }
   ],
   "source": [
    "def hello_name(user_name):\n",
    "#     print(f\"hello_{user_name.upper()}!\")\n",
    "    print(\"hello_\" + user_name.upper() + \"!\")\n",
    "\n",
    "hello_name('brians')"
   ]
  },
  {
   "cell_type": "code",
   "execution_count": 14,
   "id": "61732ca3",
   "metadata": {},
   "outputs": [],
   "source": [
    "how to enter markdown"
   ]
  },
  {
   "cell_type": "code",
   "execution_count": null,
   "id": "08084a9c",
   "metadata": {
    "collapsed": true
   },
   "outputs": [],
   "source": []
  },
  {
   "cell_type": "markdown",
   "id": "73f08a24",
   "metadata": {},
   "source": [
    "**Question 2**\n",
    "Write a python function that prints the odd numbers from 1 to 100 and returns nothing."
   ]
  },
  {
   "cell_type": "code",
   "execution_count": 21,
   "id": "93da82e5",
   "metadata": {},
   "outputs": [
    {
     "name": "stdout",
     "output_type": "stream",
     "text": [
      "1\n",
      "3\n",
      "5\n",
      "7\n",
      "9\n",
      "11\n",
      "13\n",
      "15\n",
      "17\n",
      "19\n",
      "21\n",
      "23\n",
      "25\n",
      "27\n",
      "29\n",
      "31\n",
      "33\n",
      "35\n",
      "37\n",
      "39\n",
      "41\n",
      "43\n",
      "45\n",
      "47\n",
      "49\n",
      "51\n",
      "53\n",
      "55\n",
      "57\n",
      "59\n",
      "61\n",
      "63\n",
      "65\n",
      "67\n",
      "69\n",
      "71\n",
      "73\n",
      "75\n",
      "77\n",
      "79\n",
      "81\n",
      "83\n",
      "85\n",
      "87\n",
      "89\n",
      "91\n",
      "93\n",
      "95\n",
      "97\n",
      "99\n"
     ]
    }
   ],
   "source": [
    "def first_odds():\n",
    "    num = 1\n",
    "    while num < 101:\n",
    "        if num % 2 == 1:\n",
    "            print(num)\n",
    "        num = num + 1\n",
    "\n",
    "first_odds()"
   ]
  },
  {
   "cell_type": "code",
   "execution_count": null,
   "id": "c42c49e6",
   "metadata": {},
   "outputs": [],
   "source": [
    "def first_odds_again():\n",
    "    "
   ]
  },
  {
   "cell_type": "code",
   "execution_count": 22,
   "id": "6fd0b1fc",
   "metadata": {},
   "outputs": [
    {
     "name": "stdout",
     "output_type": "stream",
     "text": [
      "Help on class range in module builtins:\n",
      "\n",
      "class range(object)\n",
      " |  range(stop) -> range object\n",
      " |  range(start, stop[, step]) -> range object\n",
      " |  \n",
      " |  Return an object that produces a sequence of integers from start (inclusive)\n",
      " |  to stop (exclusive) by step.  range(i, j) produces i, i+1, i+2, ..., j-1.\n",
      " |  start defaults to 0, and stop is omitted!  range(4) produces 0, 1, 2, 3.\n",
      " |  These are exactly the valid indices for a list of 4 elements.\n",
      " |  When step is given, it specifies the increment (or decrement).\n",
      " |  \n",
      " |  Methods defined here:\n",
      " |  \n",
      " |  __bool__(self, /)\n",
      " |      True if self else False\n",
      " |  \n",
      " |  __contains__(self, key, /)\n",
      " |      Return key in self.\n",
      " |  \n",
      " |  __eq__(self, value, /)\n",
      " |      Return self==value.\n",
      " |  \n",
      " |  __ge__(self, value, /)\n",
      " |      Return self>=value.\n",
      " |  \n",
      " |  __getattribute__(self, name, /)\n",
      " |      Return getattr(self, name).\n",
      " |  \n",
      " |  __getitem__(self, key, /)\n",
      " |      Return self[key].\n",
      " |  \n",
      " |  __gt__(self, value, /)\n",
      " |      Return self>value.\n",
      " |  \n",
      " |  __hash__(self, /)\n",
      " |      Return hash(self).\n",
      " |  \n",
      " |  __iter__(self, /)\n",
      " |      Implement iter(self).\n",
      " |  \n",
      " |  __le__(self, value, /)\n",
      " |      Return self<=value.\n",
      " |  \n",
      " |  __len__(self, /)\n",
      " |      Return len(self).\n",
      " |  \n",
      " |  __lt__(self, value, /)\n",
      " |      Return self<value.\n",
      " |  \n",
      " |  __ne__(self, value, /)\n",
      " |      Return self!=value.\n",
      " |  \n",
      " |  __reduce__(...)\n",
      " |      Helper for pickle.\n",
      " |  \n",
      " |  __repr__(self, /)\n",
      " |      Return repr(self).\n",
      " |  \n",
      " |  __reversed__(...)\n",
      " |      Return a reverse iterator.\n",
      " |  \n",
      " |  count(...)\n",
      " |      rangeobject.count(value) -> integer -- return number of occurrences of value\n",
      " |  \n",
      " |  index(...)\n",
      " |      rangeobject.index(value) -> integer -- return index of value.\n",
      " |      Raise ValueError if the value is not present.\n",
      " |  \n",
      " |  ----------------------------------------------------------------------\n",
      " |  Static methods defined here:\n",
      " |  \n",
      " |  __new__(*args, **kwargs) from builtins.type\n",
      " |      Create and return a new object.  See help(type) for accurate signature.\n",
      " |  \n",
      " |  ----------------------------------------------------------------------\n",
      " |  Data descriptors defined here:\n",
      " |  \n",
      " |  start\n",
      " |  \n",
      " |  step\n",
      " |  \n",
      " |  stop\n",
      "\n"
     ]
    }
   ],
   "source": [
    "help(range)"
   ]
  },
  {
   "cell_type": "code",
   "execution_count": null,
   "id": "e9d104d2",
   "metadata": {},
   "outputs": [],
   "source": []
  },
  {
   "cell_type": "code",
   "execution_count": 32,
   "id": "ce26d102",
   "metadata": {},
   "outputs": [
    {
     "name": "stdout",
     "output_type": "stream",
     "text": [
      "Choose a year or quit to quit2004\n",
      "2004 is a leap year\n",
      "Choose a year or quit to quit2000\n"
     ]
    },
    {
     "data": {
      "text/plain": [
       "True"
      ]
     },
     "execution_count": 32,
     "metadata": {},
     "output_type": "execute_result"
    }
   ],
   "source": [
    "def is_leap_year():\n",
    "    year = int(input(\"Choose a year or quit to quit\"))\n",
    "    while year != quit:\n",
    "        if year % 4 == 0 and year % 100 != 0:\n",
    "            print(f\"{year} is a leap year\")\n",
    "        elif year % 400 == 0:\n",
    "            return True\n",
    "        else:\n",
    "            return False\n",
    "        year = int(input(\"Choose a year or quit to quit\"))\n",
    "\n",
    "    \n",
    "is_leap_year()"
   ]
  },
  {
   "cell_type": "code",
   "execution_count": 31,
   "id": "0811a8d8",
   "metadata": {},
   "outputs": [
    {
     "data": {
      "text/plain": [
       "False"
      ]
     },
     "execution_count": 31,
     "metadata": {},
     "output_type": "execute_result"
    }
   ],
   "source": [
    "def is_consecutive(a_list):\n",
    "    for idx in range((len(a_list))-1):\n",
    "        value = a_list[idx]\n",
    "        value_to_right = a_list[idx + 1]\n",
    "        if value + 1 != value_to_right:\n",
    "            return False\n",
    "    return True\n",
    "        \n",
    "my_list = [1,2,5]\n",
    "is_consecutive(my_list)\n"
   ]
  },
  {
   "cell_type": "code",
   "execution_count": null,
   "id": "e70ad306",
   "metadata": {},
   "outputs": [],
   "source": []
  }
 ],
 "metadata": {
  "kernelspec": {
   "display_name": "Python 3",
   "language": "python",
   "name": "python3"
  },
  "language_info": {
   "codemirror_mode": {
    "name": "ipython",
    "version": 3
   },
   "file_extension": ".py",
   "mimetype": "text/x-python",
   "name": "python",
   "nbconvert_exporter": "python",
   "pygments_lexer": "ipython3",
   "version": "3.11.2"
  },
  "vscode": {
   "interpreter": {
    "hash": "22860c672eb4b1f19d5c1a927da384abc0425d6e0c7203e2cf4c0cced7633f7a"
   }
  }
 },
 "nbformat": 4,
 "nbformat_minor": 5
}
